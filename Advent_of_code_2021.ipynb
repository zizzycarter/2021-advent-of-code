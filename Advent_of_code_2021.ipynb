{
  "nbformat": 4,
  "nbformat_minor": 0,
  "metadata": {
    "colab": {
      "name": "Advent of code 2021.ipynb",
      "provenance": []
    },
    "kernelspec": {
      "name": "python3",
      "display_name": "Python 3"
    },
    "language_info": {
      "name": "python"
    }
  },
  "cells": [
    {
      "cell_type": "markdown",
      "metadata": {
        "id": "TkNtnCdkov6W"
      },
      "source": [
        "2021 advent of code\n",
        "https://adventofcode.com/ "
      ]
    },
    {
      "cell_type": "code",
      "metadata": {
        "id": "8XKNh0Bukd_o"
      },
      "source": [
        "import pandas as pd\n",
        "import numpy as np"
      ],
      "execution_count": 32,
      "outputs": []
    },
    {
      "cell_type": "markdown",
      "metadata": {
        "id": "38VrFR_mpYnZ"
      },
      "source": [
        "# Day 1"
      ]
    },
    {
      "cell_type": "code",
      "metadata": {
        "colab": {
          "base_uri": "https://localhost:8080/"
        },
        "id": "BimMLanJk30Y",
        "outputId": "3cde0fa2-861c-42f0-e23e-fabb9801023f"
      },
      "source": [
        "df = pd.read_csv('data.csv')\n",
        "df.size"
      ],
      "execution_count": 30,
      "outputs": [
        {
          "output_type": "execute_result",
          "data": {
            "text/plain": [
              "2000"
            ]
          },
          "metadata": {},
          "execution_count": 30
        }
      ]
    },
    {
      "cell_type": "code",
      "metadata": {
        "id": "MqV-FQRUrA6C"
      },
      "source": [
        "def count_increase(df,col):\n",
        "  # difference between current value and prev value\n",
        "  df['diff'] = df[col].diff()\n",
        "  #count where diff > 0\n",
        "  df['status'] = np.where(df['diff']> 0, \"increase\",\"decrease\")\n",
        "  return df.status.value_counts()"
      ],
      "execution_count": 40,
      "outputs": []
    },
    {
      "cell_type": "code",
      "metadata": {
        "colab": {
          "base_uri": "https://localhost:8080/"
        },
        "id": "v-vWaU_NrUYI",
        "outputId": "708b6075-3057-4c7d-ca9f-393542ff67fc"
      },
      "source": [
        "count_increase(df,'Input')"
      ],
      "execution_count": 41,
      "outputs": [
        {
          "output_type": "execute_result",
          "data": {
            "text/plain": [
              "increase    1482\n",
              "decrease     518\n",
              "Name: status, dtype: int64"
            ]
          },
          "metadata": {},
          "execution_count": 41
        }
      ]
    },
    {
      "cell_type": "code",
      "metadata": {
        "colab": {
          "base_uri": "https://localhost:8080/"
        },
        "id": "AMjmRfLtqxgf",
        "outputId": "7c042302-caae-4d8d-aadd-9d5cd5f0bb77"
      },
      "source": [
        "# 3 months (forward) rolling sum\n",
        "indexer = pd.api.indexers.FixedForwardWindowIndexer(window_size=3)\n",
        "df['roll_sum_forward'] = df['Input'].rolling(window=indexer).sum()\n",
        "\n",
        "#count increase\n",
        "count_increase(df,\"roll_sum_forward\")"
      ],
      "execution_count": 46,
      "outputs": [
        {
          "output_type": "execute_result",
          "data": {
            "text/plain": [
              "increase    1518\n",
              "decrease     482\n",
              "Name: status, dtype: int64"
            ]
          },
          "metadata": {},
          "execution_count": 46
        }
      ]
    }
  ]
}